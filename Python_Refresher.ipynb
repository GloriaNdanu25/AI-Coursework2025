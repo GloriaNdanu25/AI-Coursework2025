{
  "nbformat": 4,
  "nbformat_minor": 0,
  "metadata": {
    "colab": {
      "provenance": [],
      "authorship_tag": "ABX9TyPzK/TPM7RMaTjzRGYxV6k+",
      "include_colab_link": true
    },
    "kernelspec": {
      "name": "python3",
      "display_name": "Python 3"
    },
    "language_info": {
      "name": "python"
    }
  },
  "cells": [
    {
      "cell_type": "markdown",
      "metadata": {
        "id": "view-in-github",
        "colab_type": "text"
      },
      "source": [
        "<a href=\"https://colab.research.google.com/github/Maxwell-Gitonga/AI-Coursework2025/blob/main/Python_Refresher.ipynb\" target=\"_parent\"><img src=\"https://colab.research.google.com/assets/colab-badge.svg\" alt=\"Open In Colab\"/></a>"
      ]
    },
    {
      "cell_type": "code",
      "source": [
        "# 164430 Maxwell Gitonga"
      ],
      "metadata": {
        "id": "6fUJ6B_x6r34"
      },
      "execution_count": null,
      "outputs": []
    },
    {
      "cell_type": "code",
      "source": [
        "#Question 6:\n",
        "values = []\n",
        "\n",
        "\n",
        "for i in range(5):\n",
        "    num = float(input(f\"Enter value {i+1}: \"))\n",
        "    values.append(num)\n",
        "\n",
        "\n",
        "average = sum(values) / len(values)\n",
        "\n",
        "\n",
        "print(f\"\\nThe average of the entered values is: {average}\")"
      ],
      "metadata": {
        "colab": {
          "base_uri": "https://localhost:8080/"
        },
        "id": "Suu1PpOA6KtZ",
        "outputId": "f7040a27-3ed6-4449-f419-115a0c91f66d"
      },
      "execution_count": 3,
      "outputs": [
        {
          "output_type": "stream",
          "name": "stdout",
          "text": [
            "Enter value 1: 5\n",
            "Enter value 2: 54\n",
            "Enter value 3: 20\n",
            "Enter value 4: 54\n",
            "Enter value 5: 87\n",
            "\n",
            "The average of the entered values is: 44.0\n"
          ]
        }
      ]
    },
    {
      "cell_type": "code",
      "source": [
        "#Question 5: Pseudo code\n",
        "x = 0\n",
        "y = 20\n",
        "\n",
        "while(y>6):\n",
        "    y = y-4\n",
        "    x = 2/y+x\n",
        "print(x)"
      ],
      "metadata": {
        "colab": {
          "base_uri": "https://localhost:8080/"
        },
        "id": "UvTwdMPM5zxy",
        "outputId": "ec34281e-a3a2-461f-f611-21ea688d4d51"
      },
      "execution_count": 2,
      "outputs": [
        {
          "output_type": "stream",
          "name": "stdout",
          "text": [
            "1.0416666666666665\n"
          ]
        }
      ]
    },
    {
      "cell_type": "code",
      "source": [
        "#Question 4: Upper case or Lower case\n",
        "def check_case(char):\n",
        "    if char.isupper():\n",
        "        return \"Uppercase\"\n",
        "    elif char.islower():\n",
        "        return \"Lowercase\"\n",
        "    else:\n",
        "        return \"Not a letter\"\n",
        "\n",
        "# Get input from the user\n",
        "user_input = input(\"Enter a single character: \")\n",
        "\n",
        "# Validate input length\n",
        "if len(user_input) == 1:\n",
        "    result = check_case(user_input)\n",
        "    print(f\"The character is: {result}\")\n",
        "else:\n",
        "    print(\"Please enter exactly one character.\")"
      ],
      "metadata": {
        "id": "tWgMn5CdnfGP",
        "colab": {
          "base_uri": "https://localhost:8080/"
        },
        "outputId": "bf4ea594-dc89-4fd8-8f19-5f88b6c17a52"
      },
      "execution_count": 1,
      "outputs": [
        {
          "output_type": "stream",
          "name": "stdout",
          "text": [
            "Enter a single character: U\n",
            "The character is: Uppercase\n"
          ]
        }
      ]
    },
    {
      "cell_type": "code",
      "source": [
        "#Question 3: Calculate area and perimeter of a squareusing functions\n",
        "side = float(input(\"Enter dimension!:\"))\n",
        "area = side * side\n",
        "perimeter = side * 4\n",
        "\n",
        "print(area)\n",
        "print(perimeter)"
      ],
      "metadata": {
        "colab": {
          "base_uri": "https://localhost:8080/"
        },
        "id": "5tJY9NPwlnH5",
        "outputId": "3be1e785-f41f-4de9-d936-1a6e1368f277"
      },
      "execution_count": null,
      "outputs": [
        {
          "output_type": "stream",
          "name": "stdout",
          "text": [
            "Enter dimension!:2\n",
            "4.0\n",
            "8.0\n"
          ]
        }
      ]
    },
    {
      "cell_type": "code",
      "execution_count": null,
      "metadata": {
        "id": "JivtIxVpr7fo",
        "colab": {
          "base_uri": "https://localhost:8080/"
        },
        "outputId": "1b5cb275-1674-4b19-d529-fa59a0cdd2d7"
      },
      "outputs": [
        {
          "output_type": "stream",
          "name": "stdout",
          "text": [
            "Input radius!:2\n",
            "66.98666666666666\n"
          ]
        }
      ],
      "source": [
        "  #Question 2 : Calculate volume of a sphere\n",
        "  radius = int(input(\"Input radius!:\"))\n",
        "  volume = radius * 4/3 * 3.14 * radius * radius * radius\n",
        "  print(volume)"
      ]
    },
    {
      "cell_type": "code",
      "source": [
        "#Question 2: Convert days into seconds"
      ],
      "metadata": {
        "id": "HNWbjanKidh3"
      },
      "execution_count": null,
      "outputs": []
    },
    {
      "cell_type": "code",
      "source": [
        "days = int(input(\"Enter number of days!:\")) #Request input of number of days\n",
        "seconds = days * 24 * 60 * 60  #Convert days to seconds\n",
        "print(seconds)"
      ],
      "metadata": {
        "colab": {
          "base_uri": "https://localhost:8080/"
        },
        "collapsed": true,
        "id": "kOGnFHkgijGw",
        "outputId": "800cf27e-f21f-4789-cf8b-ca22d7b79462"
      },
      "execution_count": null,
      "outputs": [
        {
          "output_type": "stream",
          "name": "stdout",
          "text": [
            "Enter number of days!:2\n",
            "172800\n"
          ]
        }
      ]
    }
  ]
}